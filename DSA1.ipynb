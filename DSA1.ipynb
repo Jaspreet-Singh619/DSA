{
  "nbformat": 4,
  "nbformat_minor": 0,
  "metadata": {
    "colab": {
      "provenance": [],
      "authorship_tag": "ABX9TyPnkUNUYAsflNbd4N+VQ4Uq",
      "include_colab_link": true
    },
    "kernelspec": {
      "name": "python3",
      "display_name": "Python 3"
    },
    "language_info": {
      "name": "python"
    }
  },
  "cells": [
    {
      "cell_type": "markdown",
      "metadata": {
        "id": "view-in-github",
        "colab_type": "text"
      },
      "source": [
        "<a href=\"https://colab.research.google.com/github/Jaspreet-Singh619/DSA/blob/main/DSA1.ipynb\" target=\"_parent\"><img src=\"https://colab.research.google.com/assets/colab-badge.svg\" alt=\"Open In Colab\"/></a>"
      ]
    },
    {
      "cell_type": "code",
      "execution_count": 12,
      "metadata": {
        "id": "bh128lGZU1KI"
      },
      "outputs": [],
      "source": [
        "import math\n",
        "def longestValidParenthesis(s :str):\n",
        "  count=0\n",
        "        ##)))))\n",
        "        ##(((() - 3 wrong 1 right 5-3\n",
        "  list1=[]\n",
        "  for i in s:\n",
        "    list1.append(i)\n",
        "\n",
        "  print(list1)\n",
        "  total_len=len(s)\n",
        "  for i in list1:\n",
        "    if i == '(':\n",
        "        count=count+1\n",
        "        continue\n",
        "    elif i==')':\n",
        "        count=count-1\n",
        "  print(total_len,count)\n",
        "  if total_len==0:\n",
        "      return 0\n",
        "  else:\n",
        "     return total_len-abs(count)"
      ]
    },
    {
      "cell_type": "code",
      "source": [
        "longestValidParenthesis(\"(()\")"
      ],
      "metadata": {
        "colab": {
          "base_uri": "https://localhost:8080/"
        },
        "id": "-LWZpiT0W3Ax",
        "outputId": "b0237e41-57fe-447b-b2cc-cb009c4123db"
      },
      "execution_count": 14,
      "outputs": [
        {
          "output_type": "stream",
          "name": "stdout",
          "text": [
            "['(', '(', ')']\n",
            "3 1\n"
          ]
        },
        {
          "output_type": "execute_result",
          "data": {
            "text/plain": [
              "2"
            ]
          },
          "metadata": {},
          "execution_count": 14
        }
      ]
    },
    {
      "cell_type": "code",
      "source": [],
      "metadata": {
        "id": "SMnec6rhW_aK"
      },
      "execution_count": null,
      "outputs": []
    }
  ]
}